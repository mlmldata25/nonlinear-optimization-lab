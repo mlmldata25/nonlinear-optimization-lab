{
 "cells": [
  {
   "cell_type": "markdown",
   "metadata": {},
   "source": [
    "### Non-linear optimization: law of the wall\n",
    "\n",
    "In sediment transport studies, current velocity ($u$) as a function of height off the bottom ($z$) is often modeled by the \"law of the wall,\" or a logaritmic layer, through the following equation:\n",
    "\n",
    "$$ u = \\frac{u_*}{0.41}\\ln\\left(\\frac{z}{z_o}\\right) $$ \n",
    "\n",
    "The goal of fitting this model to profiles of $u$ and $z$ data is to obtain estimates of the parameters of the \"friction velocity\" ($u_*$) and \"roughness length\" ($z_o$). \n",
    "\n",
    "Examples of the profile shape are shown below with an untransformed (left) and logarithmic (right) $y$-axis. \n",
    "\n",
    "![Example plot](https://oceanwiki.ethz.ch/lib/exe/fetch.php?cache=&media=oceanwiki:boundary_layer_velocity_graph_with_log.png)\n",
    "\n",
    "*source:* Source: Waves, Tides and Shallow Water Processes. (1989) Open University. Page 104, via [oceanwiki](https://oceanwiki.ethz.ch/doku.php?id=lecture7:lawofthewall)\n",
    "\n",
    "\n",
    "The friction velocity $u_*$ is related to the friction force acting on the seafloor - it can be compared to a critical value to determine if sediment will be suspended or not. The roughness length $z_o$ is measure of how rough the seafloor is, either due to the grain size of the sediment or the size of ripples on the seafloor. Soulsby (1983) provides typical values for $z_o$:\n",
    "\n",
    "\n",
    "| Bottom Type      | $z_o$ (cm)  |\n",
    "| ---------------- | ----------- |\n",
    "| Mud              | 0.02        |\n",
    "| Mud/sand         | 0.07        |\n",
    "| Silt/sand        | 0.002       |\n",
    "| Sand (unrippled) | 0.04        |\n",
    "| Sand (rippled)   | 0.6         |\n",
    "| Sand/shell       | 0.03        |\n",
    "| Silt/gravel      | 0.03        |\n",
    "| Mud/sand/gravel  | 0.03        |\n",
    "| Gravel           | 0.3         |\n",
    "\n",
    "*source:* Soulsby, R. L. (1983). The bottom boundary layer of shelf seas. *Elsevier Oceanography Series* (Vol. 35, pp. 189-266). Elsevier."
   ]
  },
  {
   "cell_type": "code",
   "execution_count": 2,
   "metadata": {},
   "outputs": [],
   "source": [
    "import numpy as np\n",
    "import matplotlib.pyplot as plt\n",
    "import pandas as pd\n",
    "from scipy import stats\n",
    "from scipy.optimize import curve_fit"
   ]
  },
  {
   "cell_type": "markdown",
   "metadata": {},
   "source": [
    "The following arrays contain data for a vertical profile of velocity at four different heights above the seabed along the Eel River margin off northern California."
   ]
  },
  {
   "cell_type": "code",
   "execution_count": 7,
   "metadata": {},
   "outputs": [],
   "source": [
    "df = pd.DataFrame()\n",
    "df['z(cm)'] = np.array([22, 55, 89, 123])\n",
    "df['u(cm/s)'] = np.array([41.8, 50.4, 55.0, 58.4])\n"
   ]
  },
  {
   "cell_type": "code",
   "execution_count": 8,
   "metadata": {},
   "outputs": [
    {
     "data": {
      "text/html": [
       "<div>\n",
       "<style scoped>\n",
       "    .dataframe tbody tr th:only-of-type {\n",
       "        vertical-align: middle;\n",
       "    }\n",
       "\n",
       "    .dataframe tbody tr th {\n",
       "        vertical-align: top;\n",
       "    }\n",
       "\n",
       "    .dataframe thead th {\n",
       "        text-align: right;\n",
       "    }\n",
       "</style>\n",
       "<table border=\"1\" class=\"dataframe\">\n",
       "  <thead>\n",
       "    <tr style=\"text-align: right;\">\n",
       "      <th></th>\n",
       "      <th>z(cm)</th>\n",
       "      <th>u(cm/s)</th>\n",
       "    </tr>\n",
       "  </thead>\n",
       "  <tbody>\n",
       "    <tr>\n",
       "      <th>0</th>\n",
       "      <td>22</td>\n",
       "      <td>41.8</td>\n",
       "    </tr>\n",
       "    <tr>\n",
       "      <th>1</th>\n",
       "      <td>55</td>\n",
       "      <td>50.4</td>\n",
       "    </tr>\n",
       "    <tr>\n",
       "      <th>2</th>\n",
       "      <td>89</td>\n",
       "      <td>55.0</td>\n",
       "    </tr>\n",
       "    <tr>\n",
       "      <th>3</th>\n",
       "      <td>123</td>\n",
       "      <td>58.4</td>\n",
       "    </tr>\n",
       "  </tbody>\n",
       "</table>\n",
       "</div>"
      ],
      "text/plain": [
       "   z(cm)  u(cm/s)\n",
       "0     22     41.8\n",
       "1     55     50.4\n",
       "2     89     55.0\n",
       "3    123     58.4"
      ]
     },
     "execution_count": 8,
     "metadata": {},
     "output_type": "execute_result"
    }
   ],
   "source": [
    "df"
   ]
  },
  {
   "cell_type": "markdown",
   "metadata": {},
   "source": [
    "### Exercises\n",
    "\n",
    "a) Make a plot of the data. "
   ]
  },
  {
   "cell_type": "code",
   "execution_count": null,
   "metadata": {},
   "outputs": [],
   "source": []
  },
  {
   "cell_type": "markdown",
   "metadata": {},
   "source": [
    "b) Create a function called `loglayer` which returns the modeled \"law of the wall\" velocity $u$ as a function of $z$, $u_*$ and $z_o$. Use the code below as a template."
   ]
  },
  {
   "cell_type": "code",
   "execution_count": 5,
   "metadata": {},
   "outputs": [],
   "source": [
    "def loglayer(z, ustar, zo):\n",
    "    '''\n",
    "    Return the modeled velocity in the logathmic boundary layer \n",
    "    according to the law of the wall.\n",
    "\n",
    "    Parameters:\n",
    "    -----------\n",
    "    z : float, or array-like\n",
    "        Height above the wall  \n",
    "    ustar : float\n",
    "        Friction velocity\n",
    "    zo : float\n",
    "        Roughness length\n",
    "\n",
    "    Returns:\n",
    "    --------\n",
    "    u : float, or array-like\n",
    "        Modeled velocity at height z\n",
    "    '''\n",
    "    \n",
    "    # insert code here\n",
    "\n",
    "    return u"
   ]
  },
  {
   "cell_type": "markdown",
   "metadata": {},
   "source": [
    "c) Use the `curve_fit` function in the `scipy.optimize` module to determine the best-fit values fo $u_*$ and $z_o$ based on the data given. What type of sediment could this be?"
   ]
  },
  {
   "cell_type": "code",
   "execution_count": null,
   "metadata": {},
   "outputs": [],
   "source": []
  },
  {
   "cell_type": "markdown",
   "metadata": {},
   "source": [
    "d) Plot the model with the data. Make sure the model looks like a smooth curve."
   ]
  },
  {
   "cell_type": "code",
   "execution_count": null,
   "metadata": {},
   "outputs": [],
   "source": []
  },
  {
   "cell_type": "markdown",
   "metadata": {},
   "source": [
    "e) When Tom's Geo Oce professor made him do this by hand (by drawing a straight line through the log-transformed data on logarithmic graph paper) he got $u_*$ = 3.98 cm/s and $z_o$ = 0.30 cm. Are these manual, and somewhat subjective, estimates within the uncertainty of your estimate (as defined by the standard errors of the coefficients)?"
   ]
  },
  {
   "cell_type": "code",
   "execution_count": null,
   "metadata": {},
   "outputs": [],
   "source": []
  }
 ],
 "metadata": {
  "kernelspec": {
   "display_name": "ms263-24",
   "language": "python",
   "name": "python3"
  },
  "language_info": {
   "codemirror_mode": {
    "name": "ipython",
    "version": 3
   },
   "file_extension": ".py",
   "mimetype": "text/x-python",
   "name": "python",
   "nbconvert_exporter": "python",
   "pygments_lexer": "ipython3",
   "version": "3.11.7"
  }
 },
 "nbformat": 4,
 "nbformat_minor": 2
}
